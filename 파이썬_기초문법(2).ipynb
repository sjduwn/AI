{
  "nbformat": 4,
  "nbformat_minor": 0,
  "metadata": {
    "colab": {
      "provenance": [],
      "authorship_tag": "ABX9TyP95rs0DpPMvW7zutvHPBKq",
      "include_colab_link": true
    },
    "kernelspec": {
      "name": "python3",
      "display_name": "Python 3"
    },
    "language_info": {
      "name": "python"
    }
  },
  "cells": [
    {
      "cell_type": "markdown",
      "metadata": {
        "id": "view-in-github",
        "colab_type": "text"
      },
      "source": [
        "<a href=\"https://colab.research.google.com/github/sjduwn/AI/blob/main/%ED%8C%8C%EC%9D%B4%EC%8D%AC_%EA%B8%B0%EC%B4%88%EB%AC%B8%EB%B2%95(2).ipynb\" target=\"_parent\"><img src=\"https://colab.research.google.com/assets/colab-badge.svg\" alt=\"Open In Colab\"/></a>"
      ]
    },
    {
      "cell_type": "code",
      "execution_count": null,
      "metadata": {
        "id": "kgLeJGKXVbxA",
        "colab": {
          "base_uri": "https://localhost:8080/"
        },
        "outputId": "a38b821a-ef48-4047-82cc-cfb72d7a1d42"
      },
      "outputs": [
        {
          "output_type": "stream",
          "name": "stdout",
          "text": [
            "숫자를 입력하세요:5\n",
            "홀수입니다\n",
            "첫 번째 학생의 키를 입력하세요(cm):175\n",
            "두 번째 학생의 키를 입력하세요(cm):180\n",
            "두 학생의 키 차이는 5입니다.\n"
          ]
        }
      ],
      "source": [
        "num=int(input('숫자를 입력하세요:'))\n",
        "if num%2==0:\n",
        "  print('짝수입니다.')\n",
        "else:\n",
        "  print('홀수입니다')\n",
        "\n",
        "height1=int(input('첫 번째 학생의 키를 입력하세요:'))\n",
        "height2=int(input('두 번째 학생의 키를 입력하세요:'))\n",
        "\n",
        "if height1>height2:\n",
        "  diff=height1-height2\n",
        "\n",
        "else:\n",
        "  diff=height2-height1\n",
        "\n",
        "print(f'두 학생의 키 차이는 {diff}입니다.')\n",
        "\n"
      ]
    },
    {
      "cell_type": "code",
      "source": [
        "age=int(input('나이:'))\n",
        "fee=5000\n",
        "\n",
        "if age<8 or age>=65:\n",
        "  fee=0\n",
        "\n",
        "elif age>=8 and age<14:\n",
        "  fee=fee*0.5\n",
        "\n",
        "elif age>=14 and age<19:\n",
        "  fee=fee*0.75\n",
        "\n",
        "else:\n",
        "  fee=fee\n",
        "\n",
        "print('입장료는',int(fee),'원입니다.')"
      ],
      "metadata": {
        "colab": {
          "base_uri": "https://localhost:8080/"
        },
        "id": "h5TWW5D0jF9m",
        "outputId": "0bafacb3-d661-47da-d019-53c7f18d30ae"
      },
      "execution_count": null,
      "outputs": [
        {
          "output_type": "stream",
          "name": "stdout",
          "text": [
            "나이:26\n",
            "입장료는 5000 원입니다.\n"
          ]
        }
      ]
    },
    {
      "cell_type": "code",
      "source": [
        "sum=0\n",
        "for a in range(1,6):\n",
        "  sum=sum+a\n",
        "\n",
        "print('1~5의 합은',sum,'입니다.')"
      ],
      "metadata": {
        "colab": {
          "base_uri": "https://localhost:8080/"
        },
        "id": "uq66qIF_j4yt",
        "outputId": "20120069-2de0-46f0-dec5-1a54034524fc"
      },
      "execution_count": null,
      "outputs": [
        {
          "output_type": "stream",
          "name": "stdout",
          "text": [
            "1~5의 합은 15 입니다.\n"
          ]
        }
      ]
    },
    {
      "cell_type": "code",
      "source": [
        "sum=0\n",
        "money=0\n",
        "day=0\n",
        "\n",
        "while sum<50000:\n",
        "  sum=sum+money\n",
        "  money=money+100\n",
        "  day+=1\n",
        "\n",
        "print('총',day,'일 동안 벌었습니다.')"
      ],
      "metadata": {
        "colab": {
          "base_uri": "https://localhost:8080/"
        },
        "id": "ddEJfXnykdK8",
        "outputId": "63f9a06e-bf2b-4742-9d2f-e7e463829454"
      },
      "execution_count": null,
      "outputs": [
        {
          "output_type": "stream",
          "name": "stdout",
          "text": [
            "총 33 일 동안 벌었습니다.\n"
          ]
        }
      ]
    },
    {
      "cell_type": "code",
      "source": [
        "#0~100점 사이의 점수를 입력받아 a,b,c,d로 학점을 출력하시오\n",
        "#조건:a=90점 이상 b=70점 이상 c=60점 이상 d=나머지\n",
        "test=int(input('점수를 입력하세요:'))\n",
        "if test>100 or test<0:\n",
        "  print('잘못된 점수입니다')\n",
        "elif test>=90:\n",
        "  print('A')\n",
        "elif test>=70:\n",
        "  print('B')\n",
        "elif test>=60:\n",
        "  print('C')\n",
        "else:\n",
        "  print('D')"
      ],
      "metadata": {
        "colab": {
          "base_uri": "https://localhost:8080/"
        },
        "id": "pQpWnXiBlPCE",
        "outputId": "c5667946-8a1f-44de-ce4a-b3fb84c2f7af"
      },
      "execution_count": null,
      "outputs": [
        {
          "output_type": "stream",
          "name": "stdout",
          "text": [
            "점수를 입력하세요:88\n",
            "B\n"
          ]
        }
      ]
    },
    {
      "cell_type": "code",
      "source": [
        "test=int(input('점수를 입력하세요:'))\n",
        "if test>100 or test<0:\n",
        "  print('잘못된 점수입니다')\n",
        "else:\n",
        "  if test>=90:\n",
        "    print('A')\n",
        "  elif test>=70:\n",
        "    print('B')\n",
        "  elif test>=60:\n",
        "    print('C')\n",
        "  else:\n",
        "    print('D')"
      ],
      "metadata": {
        "colab": {
          "base_uri": "https://localhost:8080/"
        },
        "id": "YQKrGCZ2npoC",
        "outputId": "80ce18b6-37a8-415e-98ec-96d2ee395606"
      },
      "execution_count": null,
      "outputs": [
        {
          "output_type": "stream",
          "name": "stdout",
          "text": [
            "점수를 입력하세요:90\n",
            "A\n"
          ]
        }
      ]
    },
    {
      "cell_type": "code",
      "source": [
        "#1에서 100까지 홀수의 합과 짝수의 합을 구하시오\n",
        "odd_sum=0\n",
        "even_sum=0\n",
        "for i in range(1,101):\n",
        "  if i%2==0:\n",
        "    even_sum=even_sum+i\n",
        "  else:\n",
        "    odd_sum=odd_sum+i\n",
        "print('짝수:',even_sum,'홀수:',odd_sum)"
      ],
      "metadata": {
        "colab": {
          "base_uri": "https://localhost:8080/"
        },
        "id": "WTbLzrO4yZ1O",
        "outputId": "44bb5ff3-4cf5-4336-efed-c6b24c76bcfc"
      },
      "execution_count": null,
      "outputs": [
        {
          "output_type": "stream",
          "name": "stdout",
          "text": [
            "짝수: 2550 홀수: 2500\n"
          ]
        }
      ]
    },
    {
      "cell_type": "code",
      "source": [
        "i=1\n",
        "sum=0\n",
        "while i>0:\n",
        "  num=int(input('숫자를 입력하시오:'))\n",
        "  sum=sum+num\n",
        "  if num==0:\n",
        "    break\n",
        "\n",
        "print('총합=',sum)"
      ],
      "metadata": {
        "colab": {
          "base_uri": "https://localhost:8080/"
        },
        "id": "m_ou7TrK4msp",
        "outputId": "e69a3a1f-132f-4f69-8872-a29f8fcaa1f4"
      },
      "execution_count": 23,
      "outputs": [
        {
          "output_type": "stream",
          "name": "stdout",
          "text": [
            "숫자를 입력하시오:55\n",
            "숫자를 입력하시오:4\n",
            "숫자를 입력하시오:2\n",
            "숫자를 입력하시오:0\n",
            "총합= 61\n"
          ]
        }
      ]
    }
  ]
}